{
  "nbformat": 4,
  "nbformat_minor": 0,
  "metadata": {
    "colab": {
      "name": "running-experiments.ipynb",
      "provenance": [],
      "collapsed_sections": [],
      "machine_shape": "hm",
      "authorship_tag": "ABX9TyMMQFFVyP9dhMCLMe2UtHl+",
      "include_colab_link": true
    },
    "kernelspec": {
      "name": "python3",
      "display_name": "Python 3"
    },
    "accelerator": "GPU"
  },
  "cells": [
    {
      "cell_type": "markdown",
      "metadata": {
        "id": "view-in-github",
        "colab_type": "text"
      },
      "source": [
        "<a href=\"https://colab.research.google.com/github/shonenkov/Digital-Peter-Model-Comparisons/blob/master/jupyters/running_experiments.ipynb\" target=\"_parent\"><img src=\"https://colab.research.google.com/assets/colab-badge.svg\" alt=\"Open In Colab\"/></a>"
      ]
    },
    {
      "cell_type": "code",
      "metadata": {
        "colab": {
          "base_uri": "https://localhost:8080/"
        },
        "id": "VdlYYYKAR1lG",
        "outputId": "2686e55f-2c5d-41bd-c4cd-37c270683cc7"
      },
      "source": [
        "!pip install --upgrade pip > /dev/null\n",
        "!pip install tpu-star==0.0.1-rc9 gdown==3.12.2 neptune-client opencv-python==4.4.0.46 psutil==5.8.0 tqdm==4.56.2 gpustat > /dev/null"
      ],
      "execution_count": 1,
      "outputs": [
        {
          "output_type": "stream",
          "text": [
            "\u001b[31mERROR: pip's dependency resolver does not currently take into account all the packages that are installed. This behaviour is the source of the following dependency conflicts.\n",
            "albumentations 0.1.12 requires imgaug<0.2.7,>=0.2.5, but you have imgaug 0.2.9 which is incompatible.\u001b[0m\n"
          ],
          "name": "stdout"
        }
      ]
    },
    {
      "cell_type": "code",
      "metadata": {
        "colab": {
          "base_uri": "https://localhost:8080/"
        },
        "id": "sy03rRq-R_LZ",
        "outputId": "0ba5a111-aa3b-4233-bbac-1208f91a8306"
      },
      "source": [
        "import multiprocessing\n",
        "import torch\n",
        "from psutil import virtual_memory\n",
        "\n",
        "ram_gb = round(virtual_memory().total / 1024**3, 1)\n",
        "\n",
        "print('CPU:', multiprocessing.cpu_count())\n",
        "print('RAM GB:', ram_gb)\n",
        "print(\"PyTorch version:\", torch.__version__)\n",
        "print(\"CUDA version:\", torch.version.cuda)\n",
        "print(\"cuDNN version:\", torch.backends.cudnn.version())\n",
        "device = torch.device(\"cuda:0\" if torch.cuda.is_available() else \"cpu\")\n",
        "print(\"device:\", device.type)\n",
        "\n",
        "!gpustat"
      ],
      "execution_count": 2,
      "outputs": [
        {
          "output_type": "stream",
          "text": [
            "CPU: 4\n",
            "RAM GB: 25.5\n",
            "PyTorch version: 1.7.0+cu101\n",
            "CUDA version: 10.1\n",
            "cuDNN version: 7603\n",
            "device: cuda\n",
            "\u001b[1m\u001b[37mbbe6120ef0ac           \u001b[m  Fri Feb 26 08:50:47 2021  \u001b[1m\u001b[30m460.32.03\u001b[m\n",
            "\u001b[36m[0]\u001b[m \u001b[34mTesla P100-PCIE-16GB\u001b[m |\u001b[31m 35'C\u001b[m, \u001b[32m  0 %\u001b[m | \u001b[36m\u001b[1m\u001b[33m    2\u001b[m / \u001b[33m16280\u001b[m MB |\n"
          ],
          "name": "stdout"
        }
      ]
    },
    {
      "cell_type": "code",
      "metadata": {
        "colab": {
          "base_uri": "https://localhost:8080/"
        },
        "id": "JlXAxopuR_P9",
        "outputId": "816d356e-91d2-4cc1-ff05-b265e5ff7661"
      },
      "source": [
        "!git clone https://github.com/shonenkov/Digital-Peter-Model-Comparisons"
      ],
      "execution_count": 3,
      "outputs": [
        {
          "output_type": "stream",
          "text": [
            "Cloning into 'Digital-Peter-Model-Comparisons'...\n",
            "remote: Enumerating objects: 75, done.\u001b[K\n",
            "remote: Counting objects: 100% (75/75), done.\u001b[K\n",
            "remote: Compressing objects: 100% (44/44), done.\u001b[K\n",
            "remote: Total 75 (delta 24), reused 71 (delta 20), pack-reused 0\u001b[K\n",
            "Unpacking objects: 100% (75/75), done.\n"
          ],
          "name": "stdout"
        }
      ]
    },
    {
      "cell_type": "code",
      "metadata": {
        "colab": {
          "base_uri": "https://localhost:8080/"
        },
        "id": "KKsdDL8HR_SR",
        "outputId": "7be4a399-de99-49a2-9274-67cc60e691a3"
      },
      "source": [
        "%cd Digital-Peter-Model-Comparisons\n",
        "!ls"
      ],
      "execution_count": 4,
      "outputs": [
        {
          "output_type": "stream",
          "text": [
            "/content/Digital-Peter-Model-Comparisons\n",
            "configs     jupyters  README.md\t\trunners  src\n",
            "Dockerfile  pics      requirements.txt\tscripts\n"
          ],
          "name": "stdout"
        }
      ]
    },
    {
      "cell_type": "code",
      "metadata": {
        "id": "SBtNFmOaSDMn"
      },
      "source": [
        "DATASET_NAME = 'saintgall' # bentham|iam|peter|saintgall\n",
        "NEPTUNE_PROJECT = ''\n",
        "NEPTUNE_TOKEN = ''"
      ],
      "execution_count": 5,
      "outputs": []
    },
    {
      "cell_type": "code",
      "metadata": {
        "colab": {
          "base_uri": "https://localhost:8080/"
        },
        "id": "m9fBF0USSDO6",
        "outputId": "9a1a9967-1370-4b5a-d9f7-42739863a1e6"
      },
      "source": [
        "!python scripts/download_dataset.py --dataset_name '{DATASET_NAME}'"
      ],
      "execution_count": 6,
      "outputs": [
        {
          "output_type": "stream",
          "text": [
            "Downloading...\n",
            "From: https://drive.google.com/uc?id=1AVidj-ZKhLKuRQCnlIAOuTf4CvKYMNMr\n",
            "To: /content/input/saintgall.tar.gz\n",
            "\r0.00B [00:00, ?B/s]\r4.72MB [00:00, 36.0MB/s]\r5.53MB [00:00, 41.4MB/s]\n"
          ],
          "name": "stdout"
        }
      ]
    },
    {
      "cell_type": "markdown",
      "metadata": {
        "id": "bkiJw_w-qfMA"
      },
      "source": [
        "# T1 None-VGG-None-CTC"
      ]
    },
    {
      "cell_type": "code",
      "metadata": {
        "id": "Zb0d6twPqbPj"
      },
      "source": [
        "!python scripts/train.py \\\n",
        "  --checkpoint_path \"\" \\\n",
        "  --experiment_name \"{DATASET_NAME}_T1\" \\\n",
        "  --experiment_description \"T1 None-VGG-None-CTC\" \\\n",
        "  --dataset_name \"{DATASET_NAME}\" \\\n",
        "  --data_dir \"../input\" \\\n",
        "  --output_dir \"../saved_models\" \\\n",
        "  --image_w 1024 \\\n",
        "  --image_h 128 \\\n",
        "  --num_epochs 100 \\\n",
        "  --bs 16 \\\n",
        "  --num_workers 4 \\\n",
        "  --use_progress_bar 0 \\\n",
        "  --neptune_project \"{NEPTUNE_PROJECT}\" \\\n",
        "  --neptune_token \"{NEPTUNE_TOKEN}\" \\\n",
        "  --Transformation \"None\" \\\n",
        "  --FeatureExtraction \"VGG\" \\\n",
        "  --SequenceModeling \"None\" \\\n",
        "  --Prediction \"CTC\" \\\n",
        "  --seed 6955"
      ],
      "execution_count": null,
      "outputs": []
    },
    {
      "cell_type": "markdown",
      "metadata": {
        "id": "3uXRw2N2q03o"
      },
      "source": [
        "# T2 None-ResNet-None-CTC"
      ]
    },
    {
      "cell_type": "code",
      "metadata": {
        "id": "b31TVlenqbUF"
      },
      "source": [
        "!python scripts/train.py \\\n",
        "  --checkpoint_path \"\" \\\n",
        "  --experiment_name \"{DATASET_NAME}_T2\" \\\n",
        "  --experiment_description \"T2 None-ResNet-None-CTC Rosetta\" \\\n",
        "  --dataset_name \"{DATASET_NAME}\" \\\n",
        "  --data_dir \"../input\" \\\n",
        "  --output_dir \"../saved_models\" \\\n",
        "  --image_w 1024 \\\n",
        "  --image_h 128 \\\n",
        "  --num_epochs 100 \\\n",
        "  --bs 16 \\\n",
        "  --num_workers 4 \\\n",
        "  --use_progress_bar 0 \\\n",
        "  --neptune_project \"{NEPTUNE_PROJECT}\" \\\n",
        "  --neptune_token \"{NEPTUNE_TOKEN}\" \\\n",
        "  --Transformation \"None\" \\\n",
        "  --FeatureExtraction \"ResNet\" \\\n",
        "  --SequenceModeling \"None\" \\\n",
        "  --Prediction \"CTC\" \\\n",
        "  --seed 6955"
      ],
      "execution_count": null,
      "outputs": []
    },
    {
      "cell_type": "markdown",
      "metadata": {
        "id": "ZBeJFBEz0M0h"
      },
      "source": [
        "# T3 None-ResNet-BiLSTM-CTC"
      ]
    },
    {
      "cell_type": "code",
      "metadata": {
        "id": "2oV0yLYTqbWZ"
      },
      "source": [
        "!python scripts/train.py \\\n",
        "  --checkpoint_path \"\" \\\n",
        "  --experiment_name \"{DATASET_NAME}_T3\" \\\n",
        "  --experiment_description \"T3 None-ResNet-BiLSTM-CTC \" \\\n",
        "  --dataset_name \"{DATASET_NAME}\" \\\n",
        "  --data_dir \"../input\" \\\n",
        "  --output_dir \"../saved_models\" \\\n",
        "  --image_w 1024 \\\n",
        "  --image_h 128 \\\n",
        "  --num_epochs 100 \\\n",
        "  --bs 16 \\\n",
        "  --num_workers 4 \\\n",
        "  --use_progress_bar 0 \\\n",
        "  --neptune_project \"{NEPTUNE_PROJECT}\" \\\n",
        "  --neptune_token \"{NEPTUNE_TOKEN}\" \\\n",
        "  --Transformation \"None\" \\\n",
        "  --FeatureExtraction \"ResNet\" \\\n",
        "  --SequenceModeling \"BiLSTM\" \\\n",
        "  --Prediction \"CTC\" \\\n",
        "  --seed 6955"
      ],
      "execution_count": null,
      "outputs": []
    },
    {
      "cell_type": "markdown",
      "metadata": {
        "id": "u_2gsBv40UON"
      },
      "source": [
        "# P1 None-RCNN-None-CTC"
      ]
    },
    {
      "cell_type": "code",
      "metadata": {
        "id": "ANwWtWK6qbY0"
      },
      "source": [
        "!python scripts/train.py \\\n",
        "  --checkpoint_path \"\" \\\n",
        "  --experiment_name \"{DATASET_NAME}_P1\" \\\n",
        "  --experiment_description \"P1 None-RCNN-None-CTC\" \\\n",
        "  --dataset_name \"{DATASET_NAME}\" \\\n",
        "  --data_dir \"../input\" \\\n",
        "  --output_dir \"../saved_models\" \\\n",
        "  --image_w 1024 \\\n",
        "  --image_h 128 \\\n",
        "  --num_epochs 100 \\\n",
        "  --bs 16 \\\n",
        "  --num_workers 4 \\\n",
        "  --use_progress_bar 0 \\\n",
        "  --neptune_project \"{NEPTUNE_PROJECT}\" \\\n",
        "  --neptune_token \"{NEPTUNE_TOKEN}\" \\\n",
        "  --Transformation \"None\" \\\n",
        "  --FeatureExtraction \"RCNN\" \\\n",
        "  --SequenceModeling \"None\" \\\n",
        "  --Prediction \"CTC\" \\\n",
        "  --seed 6955"
      ],
      "execution_count": null,
      "outputs": []
    },
    {
      "cell_type": "markdown",
      "metadata": {
        "id": "1sWqzgaK0bpA"
      },
      "source": [
        "# CRNN: None-VGG-BiLSTM-CTC"
      ]
    },
    {
      "cell_type": "code",
      "metadata": {
        "id": "TsX5W3IxqbbG"
      },
      "source": [
        "!python scripts/train.py \\\n",
        "  --checkpoint_path \"\" \\\n",
        "  --experiment_name \"{DATASET_NAME}_CRNN\" \\\n",
        "  --experiment_description \"CRNN None-VGG-BiLSTM-CTC\" \\\n",
        "  --dataset_name \"{DATASET_NAME}\" \\\n",
        "  --data_dir \"../input\" \\\n",
        "  --output_dir \"../saved_models\" \\\n",
        "  --image_w 1024 \\\n",
        "  --image_h 128 \\\n",
        "  --num_epochs 100 \\\n",
        "  --bs 16 \\\n",
        "  --num_workers 4 \\\n",
        "  --use_progress_bar 0 \\\n",
        "  --neptune_project \"{NEPTUNE_PROJECT}\" \\\n",
        "  --neptune_token \"{NEPTUNE_TOKEN}\" \\\n",
        "  --Transformation \"None\" \\\n",
        "  --FeatureExtraction \"VGG\" \\\n",
        "  --SequenceModeling \"BiLSTM\" \\\n",
        "  --Prediction \"CTC\" \\\n",
        "  --seed 6955"
      ],
      "execution_count": null,
      "outputs": []
    },
    {
      "cell_type": "markdown",
      "metadata": {
        "id": "uoWBRzDh0it-"
      },
      "source": [
        "# GRCNN: None-RCNN-BiLSTM-CTC"
      ]
    },
    {
      "cell_type": "code",
      "metadata": {
        "id": "nyC4BhTsqbdV"
      },
      "source": [
        "!python scripts/train.py \\\n",
        "  --checkpoint_path \"\" \\\n",
        "  --experiment_name \"{DATASET_NAME}_GRCNN\" \\\n",
        "  --experiment_description \"GRCNN None-RCNN-BiLSTM-CTC\" \\\n",
        "  --dataset_name \"{DATASET_NAME}\" \\\n",
        "  --data_dir \"../input\" \\\n",
        "  --output_dir \"../saved_models\" \\\n",
        "  --image_w 1024 \\\n",
        "  --image_h 128 \\\n",
        "  --num_epochs 100 \\\n",
        "  --bs 16 \\\n",
        "  --num_workers 4 \\\n",
        "  --use_progress_bar 0 \\\n",
        "  --neptune_project \"{NEPTUNE_PROJECT}\" \\\n",
        "  --neptune_token \"{NEPTUNE_TOKEN}\" \\\n",
        "  --Transformation \"None\" \\\n",
        "  --FeatureExtraction \"RCNN\" \\\n",
        "  --SequenceModeling \"BiLSTM\" \\\n",
        "  --Prediction \"CTC\" \\\n",
        "  --seed 6955"
      ],
      "execution_count": null,
      "outputs": []
    },
    {
      "cell_type": "markdown",
      "metadata": {
        "id": "iw0d9MAn0o2G"
      },
      "source": [
        "# R2AM: None-RCNN-None-Attn"
      ]
    },
    {
      "cell_type": "code",
      "metadata": {
        "id": "eB75AZMlqbft"
      },
      "source": [
        "!python scripts/train.py \\\n",
        "  --checkpoint_path \"\" \\\n",
        "  --experiment_name \"{DATASET_NAME}_R2AM\" \\\n",
        "  --experiment_description \"R2AM None-RCNN-None-Attn\" \\\n",
        "  --dataset_name \"{DATASET_NAME}\" \\\n",
        "  --data_dir \"../input\" \\\n",
        "  --output_dir \"../saved_models\" \\\n",
        "  --image_w 1024 \\\n",
        "  --image_h 128 \\\n",
        "  --num_epochs 100 \\\n",
        "  --bs 16 \\\n",
        "  --num_workers 4 \\\n",
        "  --use_progress_bar 0 \\\n",
        "  --batch_max_length 120 \\\n",
        "  --neptune_project \"{NEPTUNE_PROJECT}\" \\\n",
        "  --neptune_token \"{NEPTUNE_TOKEN}\" \\\n",
        "  --Transformation \"None\" \\\n",
        "  --FeatureExtraction \"RCNN\" \\\n",
        "  --SequenceModeling \"None\" \\\n",
        "  --Prediction \"Attn\" \\\n",
        "  --seed 6955"
      ],
      "execution_count": null,
      "outputs": []
    },
    {
      "cell_type": "markdown",
      "metadata": {
        "id": "pFT2_ok-Scd_"
      },
      "source": [
        "# STAR-Net TPS-ResNet-BiLSTM-CTC"
      ]
    },
    {
      "cell_type": "code",
      "metadata": {
        "id": "ZvZuH5IqR_U2"
      },
      "source": [
        "!python scripts/train.py \\\n",
        "  --checkpoint_path \"\" \\\n",
        "  --experiment_name \"{DATASET_NAME}_STARNET\" \\\n",
        "  --experiment_description \"Star-Net TPS-ResNet-BiLSTM-CTC\" \\\n",
        "  --dataset_name \"{DATASET_NAME}\" \\\n",
        "  --data_dir \"../input\" \\\n",
        "  --output_dir \"../saved_models\" \\\n",
        "  --image_w 1024 \\\n",
        "  --image_h 128 \\\n",
        "  --num_epochs 100 \\\n",
        "  --bs 16 \\\n",
        "  --num_workers 4 \\\n",
        "  --use_progress_bar 0 \\\n",
        "  --neptune_project \"{NEPTUNE_PROJECT}\" \\\n",
        "  --neptune_token \"{NEPTUNE_TOKEN}\" \\\n",
        "  --Transformation \"TPS\" \\\n",
        "  --FeatureExtraction \"ResNet\" \\\n",
        "  --SequenceModeling \"BiLSTM\" \\\n",
        "  --Prediction \"CTC\" \\\n",
        "  --seed 6955"
      ],
      "execution_count": null,
      "outputs": []
    }
  ]
}